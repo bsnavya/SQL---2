{
 "cells": [
  {
   "cell_type": "markdown",
   "metadata": {},
   "source": [
    "1.Create an sqlalchemy engine using a sample from the data set"
   ]
  },
  {
   "cell_type": "code",
   "execution_count": 80,
   "metadata": {},
   "outputs": [],
   "source": [
    "import pandas as pd\n",
    "from sqlalchemy import create_engine\n",
    "adult = pd.read_csv(\"https://archive.ics.uci.edu/ml/machine-learning-databases/adult/adult.data\", sep=',', names = [\"age\", \"workclass\", \"fnlwgt\", \"education\",\"education_num\",\"marital_status\",\"occupation\",\"relationship\",\"race\",\"sex\",\"capital_gain\",\"capital_loss\",\"hours_per_week\",\"native_country\",\"label\"])\n",
    "engine=create_engine('sqlite:///:memory:')\n",
    "with engine.connect() as conn,conn.begin():\n",
    "    adult.to_sql('csv',conn,if_exists='replace',index=False)"
   ]
  },
  {
   "cell_type": "code",
   "execution_count": 89,
   "metadata": {},
   "outputs": [],
   "source": [
    "import sqlite3\n",
    "conn=sqlite3.connect('adult.db')\n",
    "c=conn.cursor()"
   ]
  },
  {
   "cell_type": "markdown",
   "metadata": {},
   "source": [
    "2.Write two basic update queries"
   ]
  },
  {
   "cell_type": "code",
   "execution_count": 92,
   "metadata": {},
   "outputs": [
    {
     "data": {
      "text/plain": [
       "[(50, ' Bachelors'),\n",
       " (50, ' Bachelors'),\n",
       " (38, ' HS-grad'),\n",
       " (53, ' 11th'),\n",
       " (50, ' Bachelors'),\n",
       " (37, ' Masters'),\n",
       " (49, ' 9th'),\n",
       " (52, ' HS-grad'),\n",
       " (31, ' Masters'),\n",
       " (50, ' Bachelors'),\n",
       " (37, ' Some-college'),\n",
       " (50, ' Bachelors'),\n",
       " (50, ' Bachelors'),\n",
       " (32, ' Assoc-acdm'),\n",
       " (40, ' Assoc-voc'),\n",
       " (34, ' 7th-8th'),\n",
       " (25, ' HS-grad'),\n",
       " (32, ' HS-grad'),\n",
       " (38, ' 11th'),\n",
       " (43, ' Masters')]"
      ]
     },
     "execution_count": 92,
     "metadata": {},
     "output_type": "execute_result"
    }
   ],
   "source": [
    "#Updating value of age to 50 if education is Bachelors\n",
    "c.execute(\"UPDATE adult SET age = 50 WHERE education=' Bachelors'\")\n",
    "conn.commit()\n",
    "c.execute(\"select * from adult limit 20 \")\n",
    "[(row[0],row[3]) for row in c.fetchall()]"
   ]
  },
  {
   "cell_type": "code",
   "execution_count": 91,
   "metadata": {},
   "outputs": [
    {
     "data": {
      "text/plain": [
       "['M',\n",
       " 'M',\n",
       " 'M',\n",
       " 'M',\n",
       " ' Female',\n",
       " ' Female',\n",
       " ' Female',\n",
       " 'M',\n",
       " ' Female',\n",
       " 'M',\n",
       " 'M',\n",
       " 'M',\n",
       " ' Female',\n",
       " 'M',\n",
       " 'M',\n",
       " 'M',\n",
       " 'M',\n",
       " 'M',\n",
       " 'M',\n",
       " ' Female']"
      ]
     },
     "execution_count": 91,
     "metadata": {},
     "output_type": "execute_result"
    }
   ],
   "source": [
    "#Updating Male in column sex to 'M'(and Updated value of age to 50 if education is Bachelors)\n",
    "c.execute(\"UPDATE adult SET sex ='M' where sex=' Male' \")\n",
    "conn.commit()\n",
    "c.execute(\"select * from adult limit 20 \")\n",
    "[row[9] for row in c.fetchall()]"
   ]
  },
  {
   "cell_type": "markdown",
   "metadata": {},
   "source": [
    "3.Write two basic delete queries"
   ]
  },
  {
   "cell_type": "code",
   "execution_count": 109,
   "metadata": {},
   "outputs": [
    {
     "name": "stdout",
     "output_type": "stream",
     "text": [
      "[(50, ' State-gov', 77516, ' Bachelors', 13, ' Never-married', ' Adm-clerical', ' Not-in-family', ' White', 'M', 2174, 0, 40, ' United-States', ' <=50K'), (50, ' Self-emp-not-inc', 83311, ' Bachelors', 13, ' Married-civ-spouse', ' Exec-managerial', ' Husband', ' White', 'M', 0, 0, 13, ' United-States', ' <=50K'), (38, ' Private', 215646, ' HS-grad', 9, ' Divorced', ' Handlers-cleaners', ' Not-in-family', ' White', 'M', 0, 0, 40, ' United-States', ' <=50K'), (53, ' Private', 234721, ' 11th', 7, ' Married-civ-spouse', ' Handlers-cleaners', ' Husband', ' Black', 'M', 0, 0, 40, ' United-States', ' <=50K'), (52, ' Self-emp-not-inc', 209642, ' HS-grad', 9, ' Married-civ-spouse', ' Exec-managerial', ' Husband', ' White', 'M', 0, 0, 45, ' United-States', ' >50K'), (50, ' Private', 159449, ' Bachelors', 13, ' Married-civ-spouse', ' Exec-managerial', ' Husband', ' White', 'M', 5178, 0, 40, ' United-States', ' >50K'), (37, ' Private', 280464, ' Some-college', 10, ' Married-civ-spouse', ' Exec-managerial', ' Husband', ' Black', 'M', 0, 0, 80, ' United-States', ' >50K'), (50, ' State-gov', 141297, ' Bachelors', 13, ' Married-civ-spouse', ' Prof-specialty', ' Husband', ' Asian-Pac-Islander', 'M', 0, 0, 40, ' India', ' >50K'), (32, ' Private', 205019, ' Assoc-acdm', 12, ' Never-married', ' Sales', ' Not-in-family', ' Black', 'M', 0, 0, 50, ' United-States', ' <=50K'), (40, ' Private', 121772, ' Assoc-voc', 11, ' Married-civ-spouse', ' Craft-repair', ' Husband', ' Asian-Pac-Islander', 'M', 0, 0, 40, ' ?', ' >50K'), (34, ' Private', 245487, ' 7th-8th', 4, ' Married-civ-spouse', ' Transport-moving', ' Husband', ' Amer-Indian-Eskimo', 'M', 0, 0, 45, ' Mexico', ' <=50K'), (25, ' Self-emp-not-inc', 176756, ' HS-grad', 9, ' Never-married', ' Farming-fishing', ' Own-child', ' White', 'M', 0, 0, 35, ' United-States', ' <=50K'), (32, ' Private', 186824, ' HS-grad', 9, ' Never-married', ' Machine-op-inspct', ' Unmarried', ' White', 'M', 0, 0, 40, ' United-States', ' <=50K'), (38, ' Private', 28887, ' 11th', 7, ' Married-civ-spouse', ' Sales', ' Husband', ' White', 'M', 0, 0, 50, ' United-States', ' <=50K'), (40, ' Private', 193524, ' Doctorate', 16, ' Married-civ-spouse', ' Prof-specialty', ' Husband', ' White', 'M', 0, 0, 60, ' United-States', ' >50K'), (35, ' Federal-gov', 76845, ' 9th', 5, ' Married-civ-spouse', ' Farming-fishing', ' Husband', ' Black', 'M', 0, 0, 40, ' United-States', ' <=50K'), (43, ' Private', 117037, ' 11th', 7, ' Married-civ-spouse', ' Transport-moving', ' Husband', ' White', 'M', 0, 2042, 40, ' United-States', ' <=50K'), (50, ' Local-gov', 216851, ' Bachelors', 13, ' Married-civ-spouse', ' Tech-support', ' Husband', ' White', 'M', 0, 0, 40, ' United-States', ' >50K'), (19, ' Private', 168294, ' HS-grad', 9, ' Never-married', ' Craft-repair', ' Own-child', ' White', 'M', 0, 0, 40, ' United-States', ' <=50K'), (54, ' ?', 180211, ' Some-college', 10, ' Married-civ-spouse', ' ?', ' Husband', ' Asian-Pac-Islander', 'M', 0, 0, 60, ' South', ' >50K')]\n"
     ]
    }
   ],
   "source": [
    "#Delete all records whose gender is Female(Updated value of age to 50 for education=Bachelors and updated value of male to M)\n",
    "c.execute(\"DELETE FROM adult where sex=' Female'\")\n",
    "conn.commit()\n",
    "c.execute(\"select * from adult limit 20\")\n",
    "data=c.fetchall()\n",
    "print(data)"
   ]
  },
  {
   "cell_type": "code",
   "execution_count": 110,
   "metadata": {},
   "outputs": [
    {
     "name": "stdout",
     "output_type": "stream",
     "text": [
      "[(50, ' State-gov', 77516, ' Bachelors', 13, ' Never-married', ' Adm-clerical', ' Not-in-family', ' White', 'M', 2174, 0, 40, ' United-States', ' <=50K'), (50, ' Self-emp-not-inc', 83311, ' Bachelors', 13, ' Married-civ-spouse', ' Exec-managerial', ' Husband', ' White', 'M', 0, 0, 13, ' United-States', ' <=50K'), (50, ' Private', 159449, ' Bachelors', 13, ' Married-civ-spouse', ' Exec-managerial', ' Husband', ' White', 'M', 5178, 0, 40, ' United-States', ' >50K'), (50, ' State-gov', 141297, ' Bachelors', 13, ' Married-civ-spouse', ' Prof-specialty', ' Husband', ' Asian-Pac-Islander', 'M', 0, 0, 40, ' India', ' >50K'), (40, ' Private', 193524, ' Doctorate', 16, ' Married-civ-spouse', ' Prof-specialty', ' Husband', ' White', 'M', 0, 0, 60, ' United-States', ' >50K'), (50, ' Local-gov', 216851, ' Bachelors', 13, ' Married-civ-spouse', ' Tech-support', ' Husband', ' White', 'M', 0, 0, 40, ' United-States', ' >50K'), (50, ' Private', 386940, ' Bachelors', 13, ' Divorced', ' Exec-managerial', ' Own-child', ' White', 'M', 0, 1408, 40, ' United-States', ' <=50K'), (50, ' Self-emp-not-inc', 88506, ' Bachelors', 13, ' Married-civ-spouse', ' Prof-specialty', ' Husband', ' White', 'M', 0, 0, 40, ' United-States', ' <=50K'), (50, ' Private', 172987, ' Bachelors', 13, ' Married-civ-spouse', ' Tech-support', ' Husband', ' White', 'M', 0, 0, 50, ' United-States', ' <=50K'), (50, ' Federal-gov', 337895, ' Bachelors', 13, ' Married-civ-spouse', ' Prof-specialty', ' Husband', ' Black', 'M', 0, 0, 40, ' United-States', ' >50K'), (50, ' Federal-gov', 251585, ' Bachelors', 13, ' Divorced', ' Exec-managerial', ' Not-in-family', ' White', 'M', 0, 0, 55, ' United-States', ' >50K'), (50, ' Private', 59496, ' Bachelors', 13, ' Married-civ-spouse', ' Sales', ' Husband', ' White', 'M', 2407, 0, 40, ' United-States', ' <=50K'), (42, ' Private', 116632, ' Doctorate', 16, ' Married-civ-spouse', ' Prof-specialty', ' Husband', ' White', 'M', 0, 0, 45, ' United-States', ' >50K'), (50, ' Self-emp-not-inc', 162298, ' Bachelors', 13, ' Married-civ-spouse', ' Sales', ' Husband', ' White', 'M', 0, 0, 70, ' United-States', ' >50K'), (50, ' Private', 276515, ' Bachelors', 13, ' Married-civ-spouse', ' Other-service', ' Husband', ' White', 'M', 0, 0, 40, ' Cuba', ' <=50K'), (33, ' Private', 202051, ' Masters', 14, ' Married-civ-spouse', ' Prof-specialty', ' Husband', ' White', 'M', 0, 0, 50, ' United-States', ' <=50K'), (50, ' Local-gov', 226296, ' Bachelors', 13, ' Married-civ-spouse', ' Protective-serv', ' Husband', ' White', 'M', 0, 0, 40, ' United-States', ' >50K'), (48, ' Self-emp-not-inc', 191277, ' Doctorate', 16, ' Married-civ-spouse', ' Prof-specialty', ' Husband', ' White', 'M', 0, 1902, 60, ' United-States', ' >50K'), (76, ' Private', 124191, ' Masters', 14, ' Married-civ-spouse', ' Exec-managerial', ' Husband', ' White', 'M', 0, 0, 40, ' United-States', ' >50K'), (50, ' Private', 198282, ' Bachelors', 13, ' Married-civ-spouse', ' Exec-managerial', ' Husband', ' White', 'M', 15024, 0, 60, ' United-States', ' >50K')]\n"
     ]
    }
   ],
   "source": [
    "#Delete all records if education_num less than 13(deleted male records)\n",
    "c.execute(\"DELETE FROM adult where education_num < 13\")\n",
    "conn.commit()\n",
    "c.execute(\"select * from adult limit 20\")\n",
    "data=c.fetchall()\n",
    "print(data)"
   ]
  },
  {
   "cell_type": "markdown",
   "metadata": {},
   "source": [
    "4.Write two basic filter queries"
   ]
  },
  {
   "cell_type": "code",
   "execution_count": 114,
   "metadata": {},
   "outputs": [
    {
     "name": "stdout",
     "output_type": "stream",
     "text": [
      "[(50, ' State-gov', 77516, ' Bachelors', 13, ' Never-married', ' Adm-clerical', ' Not-in-family', ' White', 'M', 2174, 0, 40, ' United-States', ' <=50K'), (50, ' Self-emp-not-inc', 83311, ' Bachelors', 13, ' Married-civ-spouse', ' Exec-managerial', ' Husband', ' White', 'M', 0, 0, 13, ' United-States', ' <=50K'), (50, ' Private', 159449, ' Bachelors', 13, ' Married-civ-spouse', ' Exec-managerial', ' Husband', ' White', 'M', 5178, 0, 40, ' United-States', ' >50K'), (50, ' State-gov', 141297, ' Bachelors', 13, ' Married-civ-spouse', ' Prof-specialty', ' Husband', ' Asian-Pac-Islander', 'M', 0, 0, 40, ' India', ' >50K'), (50, ' Local-gov', 216851, ' Bachelors', 13, ' Married-civ-spouse', ' Tech-support', ' Husband', ' White', 'M', 0, 0, 40, ' United-States', ' >50K'), (50, ' Private', 386940, ' Bachelors', 13, ' Divorced', ' Exec-managerial', ' Own-child', ' White', 'M', 0, 1408, 40, ' United-States', ' <=50K'), (50, ' Self-emp-not-inc', 88506, ' Bachelors', 13, ' Married-civ-spouse', ' Prof-specialty', ' Husband', ' White', 'M', 0, 0, 40, ' United-States', ' <=50K'), (50, ' Private', 172987, ' Bachelors', 13, ' Married-civ-spouse', ' Tech-support', ' Husband', ' White', 'M', 0, 0, 50, ' United-States', ' <=50K'), (50, ' Federal-gov', 337895, ' Bachelors', 13, ' Married-civ-spouse', ' Prof-specialty', ' Husband', ' Black', 'M', 0, 0, 40, ' United-States', ' >50K'), (50, ' Federal-gov', 251585, ' Bachelors', 13, ' Divorced', ' Exec-managerial', ' Not-in-family', ' White', 'M', 0, 0, 55, ' United-States', ' >50K'), (50, ' Private', 59496, ' Bachelors', 13, ' Married-civ-spouse', ' Sales', ' Husband', ' White', 'M', 2407, 0, 40, ' United-States', ' <=50K'), (50, ' Self-emp-not-inc', 162298, ' Bachelors', 13, ' Married-civ-spouse', ' Sales', ' Husband', ' White', 'M', 0, 0, 70, ' United-States', ' >50K'), (50, ' Private', 276515, ' Bachelors', 13, ' Married-civ-spouse', ' Other-service', ' Husband', ' White', 'M', 0, 0, 40, ' Cuba', ' <=50K'), (50, ' Local-gov', 226296, ' Bachelors', 13, ' Married-civ-spouse', ' Protective-serv', ' Husband', ' White', 'M', 0, 0, 40, ' United-States', ' >50K'), (50, ' Private', 198282, ' Bachelors', 13, ' Married-civ-spouse', ' Exec-managerial', ' Husband', ' White', 'M', 15024, 0, 60, ' United-States', ' >50K'), (50, ' Private', 432376, ' Bachelors', 13, ' Never-married', ' Sales', ' Other-relative', ' White', 'M', 0, 0, 40, ' United-States', ' <=50K'), (50, ' Private', 118853, ' Bachelors', 13, ' Married-civ-spouse', ' Exec-managerial', ' Husband', ' White', 'M', 0, 0, 60, ' United-States', ' <=50K'), (50, ' Private', 77143, ' Bachelors', 13, ' Never-married', ' Exec-managerial', ' Own-child', ' Black', 'M', 0, 0, 40, ' Germany', ' <=50K'), (50, ' State-gov', 267989, ' Bachelors', 13, ' Married-civ-spouse', ' Prof-specialty', ' Husband', ' White', 'M', 0, 0, 50, ' United-States', ' >50K'), (50, ' Private', 254202, ' Bachelors', 13, ' Married-civ-spouse', ' Sales', ' Husband', ' White', 'M', 0, 0, 50, ' United-States', ' <=50K')]\n"
     ]
    }
   ],
   "source": [
    "#Filter by sex=Male and education_num=13\n",
    "c.execute(\"select * from adult where sex='M' and education_num = 13 limit 20\")\n",
    "values=c.fetchall()\n",
    "print(values)"
   ]
  },
  {
   "cell_type": "code",
   "execution_count": 118,
   "metadata": {},
   "outputs": [
    {
     "data": {
      "text/plain": [
       "[(' Never-married', ' State-gov', ' White'),\n",
       " (' Married-civ-spouse', ' Self-emp-not-inc', ' White'),\n",
       " (' Married-civ-spouse', ' Private', ' White'),\n",
       " (' Married-civ-spouse', ' State-gov', ' Asian-Pac-Islander'),\n",
       " (' Married-civ-spouse', ' Private', ' White'),\n",
       " (' Married-civ-spouse', ' Local-gov', ' White'),\n",
       " (' Divorced', ' Private', ' White'),\n",
       " (' Married-civ-spouse', ' Self-emp-not-inc', ' White'),\n",
       " (' Married-civ-spouse', ' Private', ' White'),\n",
       " (' Married-civ-spouse', ' Federal-gov', ' Black'),\n",
       " (' Divorced', ' Federal-gov', ' White'),\n",
       " (' Married-civ-spouse', ' Private', ' White'),\n",
       " (' Married-civ-spouse', ' Private', ' White'),\n",
       " (' Married-civ-spouse', ' Self-emp-not-inc', ' White'),\n",
       " (' Married-civ-spouse', ' Private', ' White'),\n",
       " (' Married-civ-spouse', ' Private', ' White'),\n",
       " (' Married-civ-spouse', ' Local-gov', ' White'),\n",
       " (' Married-civ-spouse', ' Self-emp-not-inc', ' White'),\n",
       " (' Married-civ-spouse', ' Private', ' White'),\n",
       " (' Married-civ-spouse', ' Private', ' White')]"
      ]
     },
     "execution_count": 118,
     "metadata": {},
     "output_type": "execute_result"
    }
   ],
   "source": [
    "#Filter only marital_status, workclass and race columns\n",
    "c.execute(\"select marital_status,workclass, race from adult limit 20\")\n",
    "#conn.commit()\n",
    "[row for row in c.fetchall()]"
   ]
  },
  {
   "cell_type": "markdown",
   "metadata": {},
   "source": [
    "5.Write two basic function queries"
   ]
  },
  {
   "cell_type": "code",
   "execution_count": 120,
   "metadata": {},
   "outputs": [
    {
     "name": "stdout",
     "output_type": "stream",
     "text": [
      "924792\n"
     ]
    }
   ],
   "source": [
    "#Function to find sum of capital_loss(Existing database values)\n",
    "val=c.execute(\"select sum(capital_loss) from adult\")\n",
    "values=val.fetchone()\n",
    "print(values[0])"
   ]
  },
  {
   "cell_type": "code",
   "execution_count": 121,
   "metadata": {},
   "outputs": [
    {
     "name": "stdout",
     "output_type": "stream",
     "text": [
      "5135\n"
     ]
    }
   ],
   "source": [
    "#function to find total number of Whites(Existing database values)\n",
    "val=c.execute(\"select count(*) from adult where race=' White'\")\n",
    "values=val.fetchone()\n",
    "print(values[0])"
   ]
  }
 ],
 "metadata": {
  "kernelspec": {
   "display_name": "Python 3",
   "language": "python",
   "name": "python3"
  },
  "language_info": {
   "codemirror_mode": {
    "name": "ipython",
    "version": 3
   },
   "file_extension": ".py",
   "mimetype": "text/x-python",
   "name": "python",
   "nbconvert_exporter": "python",
   "pygments_lexer": "ipython3",
   "version": "3.6.4"
  }
 },
 "nbformat": 4,
 "nbformat_minor": 2
}
